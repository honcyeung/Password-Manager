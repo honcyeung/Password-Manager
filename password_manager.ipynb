{
 "cells": [
  {
   "cell_type": "code",
   "execution_count": null,
   "id": "509e10f6",
   "metadata": {},
   "outputs": [],
   "source": [
    "from tkinter import *\n",
    "from tkinter import messagebox\n",
    "from random import randint, choice, shuffle\n",
    "from string import ascii_letters\n",
    "import pyperclip\n",
    "import json"
   ]
  },
  {
   "cell_type": "code",
   "execution_count": 51,
   "id": "5534c022",
   "metadata": {},
   "outputs": [],
   "source": [
    "letters = [letter for letter in ascii_letters]\n",
    "numbers = [str(n) for n in range(10)]\n",
    "symbols = ['!', '#', '$', '%', '&', '(', ')', '*', '+']\n",
    "\n",
    "# ---------------------------- PASSWORD GENERATOR ------------------------------- #\n",
    "def generate_password():\n",
    "    \n",
    "    password_entry.delete(0, END)\n",
    "    \n",
    "    password = [choice(letters) for _ in range(randint(8, 10))]\n",
    "    symbol_list = [choice(symbols) for _ in range(randint(2, 4))]\n",
    "    number_list = [choice(numbers) for _ in range(randint(2, 4))]\n",
    "\n",
    "    password += symbol_list + number_list\n",
    "    shuffle(password)\n",
    "    password = ''.join(password)\n",
    "    \n",
    "    password_entry.insert(0, password)\n",
    "    pyperclip.copy(password)\n",
    "\n",
    "# ---------------------------- SAVE PASSWORD ------------------------------- #\n",
    "\n",
    "def user_entry():\n",
    "    website = website_entry.get()\n",
    "    email = email_entry.get()\n",
    "    password = password_entry.get()\n",
    "    new_data = {\n",
    "        website: {\n",
    "            'email': email,\n",
    "            'password': password,\n",
    "        }\n",
    "    }\n",
    "    return website, password, new_data\n",
    "            \n",
    "def save_password():\n",
    "    \n",
    "    website, password, new_data = user_entry()\n",
    "    \n",
    "    if len(website) == 0 or len(password) == 0:\n",
    "        messagebox.showwarning(title = 'Error', message = 'Do not leave field empty!')\n",
    "    else:\n",
    "        try:\n",
    "            with open('data.json', 'r') as f:\n",
    "                # read old data\n",
    "                data = json.load(f)\n",
    "        except FileNotFoundError:\n",
    "            with open('data.json', 'w') as f:\n",
    "                json.dump(new_data, f, indent = 4)\n",
    "        else:\n",
    "            # add new data\n",
    "            data.update(new_data)\n",
    "            with open('data.json', 'w') as f:\n",
    "                # save data\n",
    "                json.dump(data, f, indent = 4)\n",
    "        finally:\n",
    "            website_entry.delete(0, END)\n",
    "            password_entry.delete(0, END)\n",
    "            f.close()\n",
    "\n",
    "# ---------------------------- FIND PASSWORD ------------------------------- #\n",
    "\n",
    "def find_password():\n",
    "    website = website_entry.get()\n",
    "    try:\n",
    "        with open('data.json', 'r') as f:\n",
    "            data = json.load(f)    \n",
    "    except FileNotFoundError:\n",
    "        messagebox.showerror('Error', message = 'No data file found.')\n",
    "    else:\n",
    "        if website in data:\n",
    "            messagebox.showinfo(title = f'{website}', message = f'Email: {data[website][\"email\"]}\\n'\n",
    "                                                                 f'Password: {data[website][\"password\"]}')\n",
    "        else:\n",
    "            messagebox.showwarning(title = 'Warning', message = f'No details for {website} exists')\n",
    "        website_entry.delete(0, END)\n",
    "            \n",
    "# ---------------------------- UI SETUP ------------------------------- #\n",
    "window = Tk()\n",
    "window.title('Password Manager')\n",
    "window.config(padx = 50, pady = 50)\n",
    "\n",
    "canvas = Canvas(width = 200, height = 200, highlightthickness = 0) \n",
    "img = PhotoImage(file = 'logo.png')\n",
    "canvas.create_image(100, 100, image = img)\n",
    "canvas.grid(row = 0, column = 1)\n",
    "\n",
    "website = Label(text = 'Website:')\n",
    "website.grid(row = 1, column = 0)\n",
    "website_entry = Entry(width = 20)\n",
    "website_entry.grid(row = 1, column = 1)\n",
    "website_entry.focus()\n",
    "\n",
    "search = Button(text = 'Search', width = 11, command = find_password)\n",
    "search.grid(row = 1, column = 2)\n",
    "\n",
    "email = Label(text = 'Email/Username:')\n",
    "email.grid(row = 2, column = 0)\n",
    "email_entry = Entry(width = 35)\n",
    "email_entry.grid(row = 2, column = 1, columnspan = 2)\n",
    "email_entry.insert(0, 'password_manager@gmail.com')\n",
    "\n",
    "password = Label(text = 'Password:')\n",
    "password.grid(row = 3, column = 0)\n",
    "password_entry = Entry(width = 20)\n",
    "password_entry.grid(row = 3, column = 1)\n",
    "password_button = Button(text = 'Generate Password', width = 11, command = generate_password)\n",
    "password_button.grid(row = 3, column = 2)\n",
    "\n",
    "add_button = Button(text = 'Add', width = 32, command = save_password)\n",
    "add_button.grid(row = 4, column = 1, columnspan = 2)\n",
    "\n",
    "window.mainloop()"
   ]
  },
  {
   "cell_type": "code",
   "execution_count": 39,
   "id": "8f09c6b3",
   "metadata": {},
   "outputs": [
    {
     "data": {
      "text/plain": [
       "dict_keys(['Amazon', 'Facebook'])"
      ]
     },
     "execution_count": 39,
     "metadata": {},
     "output_type": "execute_result"
    }
   ],
   "source": [
    "new_data = {\n",
    "        'Amazon': {\n",
    "            'email': 'email',\n",
    "            'password': 'password',\n",
    "        },\n",
    "        'Facebook': {\n",
    "            'email': 'email',\n",
    "            'password': 'password',\n",
    "        }\n",
    "    }\n",
    "new_data.keys()"
   ]
  },
  {
   "cell_type": "code",
   "execution_count": 40,
   "id": "313f4ea6",
   "metadata": {},
   "outputs": [
    {
     "name": "stdout",
     "output_type": "stream",
     "text": [
      "Amazon\n",
      "Facebook\n"
     ]
    }
   ],
   "source": [
    "for key in new_data.keys():\n",
    "    print(key)"
   ]
  },
  {
   "cell_type": "code",
   "execution_count": null,
   "id": "302930bb",
   "metadata": {},
   "outputs": [],
   "source": []
  }
 ],
 "metadata": {
  "kernelspec": {
   "display_name": "Python 3",
   "language": "python",
   "name": "python3"
  },
  "language_info": {
   "codemirror_mode": {
    "name": "ipython",
    "version": 3
   },
   "file_extension": ".py",
   "mimetype": "text/x-python",
   "name": "python",
   "nbconvert_exporter": "python",
   "pygments_lexer": "ipython3",
   "version": "3.8.11"
  }
 },
 "nbformat": 4,
 "nbformat_minor": 5
}
